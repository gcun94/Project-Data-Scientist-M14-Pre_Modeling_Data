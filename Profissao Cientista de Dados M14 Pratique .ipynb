{
 "cells": [
  {
   "cell_type": "markdown",
   "metadata": {
    "id": "oRsiqY067PIY"
   },
   "source": [
    "# **MÓDULO 14 - Exercício**\n",
    "# Pré Processamento dos Dados - A primeira etapa Pré Modelagem"
   ]
  },
  {
   "cell_type": "markdown",
   "metadata": {
    "id": "z_xy2WNB7Zil"
   },
   "source": [
    "Para nossa atividade usaremos uma base de churn também, porém essa base não diz respeito a serviços bancários e sim serviços de internet, telefone e tv - Telecomunicação.\n",
    "\n",
    "Vamos realizar aqui as etapas de limpeza e tratamento de dados vistos durante a aula, porém aplicados a essa base nova."
   ]
  },
  {
   "cell_type": "code",
   "execution_count": 90,
   "metadata": {
    "id": "JT5cIPR07GqI"
   },
   "outputs": [],
   "source": [
    "import seaborn as sns\n",
    "import matplotlib.pyplot as plt\n",
    "import pandas as pd"
   ]
  },
  {
   "cell_type": "code",
   "execution_count": 91,
   "metadata": {
    "colab": {
     "base_uri": "https://localhost:8080/",
     "height": 556
    },
    "id": "YpQybbwr76nX",
    "outputId": "a91f3127-9300-4604-9411-e0820215a03b"
   },
   "outputs": [
    {
     "data": {
      "text/html": [
       "<div>\n",
       "<style scoped>\n",
       "    .dataframe tbody tr th:only-of-type {\n",
       "        vertical-align: middle;\n",
       "    }\n",
       "\n",
       "    .dataframe tbody tr th {\n",
       "        vertical-align: top;\n",
       "    }\n",
       "\n",
       "    .dataframe thead th {\n",
       "        text-align: right;\n",
       "    }\n",
       "</style>\n",
       "<table border=\"1\" class=\"dataframe\">\n",
       "  <thead>\n",
       "    <tr style=\"text-align: right;\">\n",
       "      <th></th>\n",
       "      <th>customerID</th>\n",
       "      <th>Genero</th>\n",
       "      <th>Idoso</th>\n",
       "      <th>Casado</th>\n",
       "      <th>Dependents</th>\n",
       "      <th>Tempo_como_Cliente</th>\n",
       "      <th>PhoneService</th>\n",
       "      <th>Servico_Internet</th>\n",
       "      <th>Servico_Seguranca</th>\n",
       "      <th>Suporte_Tecnico</th>\n",
       "      <th>StreamingTV</th>\n",
       "      <th>Tipo_Contrato</th>\n",
       "      <th>PaymentMethod</th>\n",
       "      <th>Pagamento_Mensal</th>\n",
       "      <th>Total_Pago</th>\n",
       "      <th>Churn</th>\n",
       "    </tr>\n",
       "  </thead>\n",
       "  <tbody>\n",
       "    <tr>\n",
       "      <th>0</th>\n",
       "      <td>7590-VHVEG</td>\n",
       "      <td>Female</td>\n",
       "      <td>0</td>\n",
       "      <td>Yes</td>\n",
       "      <td>No</td>\n",
       "      <td>1</td>\n",
       "      <td>No</td>\n",
       "      <td>DSL</td>\n",
       "      <td>No</td>\n",
       "      <td>No</td>\n",
       "      <td>No</td>\n",
       "      <td>Month-to-month</td>\n",
       "      <td>Electronic check</td>\n",
       "      <td>29.85</td>\n",
       "      <td>29.85</td>\n",
       "      <td>No</td>\n",
       "    </tr>\n",
       "    <tr>\n",
       "      <th>1</th>\n",
       "      <td>5575-GNVDE</td>\n",
       "      <td>Male</td>\n",
       "      <td>0</td>\n",
       "      <td>No</td>\n",
       "      <td>No</td>\n",
       "      <td>34</td>\n",
       "      <td>Yes</td>\n",
       "      <td>DSL</td>\n",
       "      <td>Yes</td>\n",
       "      <td>No</td>\n",
       "      <td>No</td>\n",
       "      <td>One year</td>\n",
       "      <td>Mailed check</td>\n",
       "      <td>56.95</td>\n",
       "      <td>1889.50</td>\n",
       "      <td>No</td>\n",
       "    </tr>\n",
       "    <tr>\n",
       "      <th>2</th>\n",
       "      <td>3668-QPYBK</td>\n",
       "      <td>Male</td>\n",
       "      <td>0</td>\n",
       "      <td>No</td>\n",
       "      <td>No</td>\n",
       "      <td>2</td>\n",
       "      <td>Yes</td>\n",
       "      <td>DSL</td>\n",
       "      <td>Yes</td>\n",
       "      <td>No</td>\n",
       "      <td>No</td>\n",
       "      <td>Month-to-month</td>\n",
       "      <td>Mailed check</td>\n",
       "      <td>53.85</td>\n",
       "      <td>108.15</td>\n",
       "      <td>Yes</td>\n",
       "    </tr>\n",
       "    <tr>\n",
       "      <th>3</th>\n",
       "      <td>7795-CFOCW</td>\n",
       "      <td>Male</td>\n",
       "      <td>0</td>\n",
       "      <td>No</td>\n",
       "      <td>No</td>\n",
       "      <td>45</td>\n",
       "      <td>No</td>\n",
       "      <td>DSL</td>\n",
       "      <td>Yes</td>\n",
       "      <td>Yes</td>\n",
       "      <td>No</td>\n",
       "      <td>One year</td>\n",
       "      <td>Bank transfer (automatic)</td>\n",
       "      <td>NaN</td>\n",
       "      <td>1840.75</td>\n",
       "      <td>No</td>\n",
       "    </tr>\n",
       "    <tr>\n",
       "      <th>4</th>\n",
       "      <td>9237-HQITU</td>\n",
       "      <td>NaN</td>\n",
       "      <td>0</td>\n",
       "      <td>No</td>\n",
       "      <td>No</td>\n",
       "      <td>2</td>\n",
       "      <td>Yes</td>\n",
       "      <td>Fiber optic</td>\n",
       "      <td>No</td>\n",
       "      <td>No</td>\n",
       "      <td>No</td>\n",
       "      <td>Month-to-month</td>\n",
       "      <td>Electronic check</td>\n",
       "      <td>NaN</td>\n",
       "      <td>151.65</td>\n",
       "      <td>Yes</td>\n",
       "    </tr>\n",
       "    <tr>\n",
       "      <th>5</th>\n",
       "      <td>9305-CDSKC</td>\n",
       "      <td>NaN</td>\n",
       "      <td>0</td>\n",
       "      <td>No</td>\n",
       "      <td>No</td>\n",
       "      <td>8</td>\n",
       "      <td>Yes</td>\n",
       "      <td>Fiber optic</td>\n",
       "      <td>No</td>\n",
       "      <td>No</td>\n",
       "      <td>Yes</td>\n",
       "      <td>Month-to-month</td>\n",
       "      <td>Electronic check</td>\n",
       "      <td>NaN</td>\n",
       "      <td>820.50</td>\n",
       "      <td>NaN</td>\n",
       "    </tr>\n",
       "    <tr>\n",
       "      <th>6</th>\n",
       "      <td>1452-KIOVK</td>\n",
       "      <td>NaN</td>\n",
       "      <td>0</td>\n",
       "      <td>No</td>\n",
       "      <td>Yes</td>\n",
       "      <td>22</td>\n",
       "      <td>Yes</td>\n",
       "      <td>Fiber optic</td>\n",
       "      <td>No</td>\n",
       "      <td>No</td>\n",
       "      <td>Yes</td>\n",
       "      <td>Month-to-month</td>\n",
       "      <td>Credit card (automatic)</td>\n",
       "      <td>NaN</td>\n",
       "      <td>1949.40</td>\n",
       "      <td>NaN</td>\n",
       "    </tr>\n",
       "    <tr>\n",
       "      <th>7</th>\n",
       "      <td>6713-OKOMC</td>\n",
       "      <td>NaN</td>\n",
       "      <td>0</td>\n",
       "      <td>No</td>\n",
       "      <td>No</td>\n",
       "      <td>10</td>\n",
       "      <td>No</td>\n",
       "      <td>DSL</td>\n",
       "      <td>Yes</td>\n",
       "      <td>No</td>\n",
       "      <td>No</td>\n",
       "      <td>Month-to-month</td>\n",
       "      <td>Mailed check</td>\n",
       "      <td>NaN</td>\n",
       "      <td>301.90</td>\n",
       "      <td>NaN</td>\n",
       "    </tr>\n",
       "    <tr>\n",
       "      <th>8</th>\n",
       "      <td>7892-POOKP</td>\n",
       "      <td>NaN</td>\n",
       "      <td>0</td>\n",
       "      <td>Yes</td>\n",
       "      <td>No</td>\n",
       "      <td>28</td>\n",
       "      <td>Yes</td>\n",
       "      <td>Fiber optic</td>\n",
       "      <td>No</td>\n",
       "      <td>Yes</td>\n",
       "      <td>Yes</td>\n",
       "      <td>Month-to-month</td>\n",
       "      <td>Electronic check</td>\n",
       "      <td>NaN</td>\n",
       "      <td>3046.05</td>\n",
       "      <td>NaN</td>\n",
       "    </tr>\n",
       "    <tr>\n",
       "      <th>9</th>\n",
       "      <td>6388-TABGU</td>\n",
       "      <td>NaN</td>\n",
       "      <td>0</td>\n",
       "      <td>No</td>\n",
       "      <td>Yes</td>\n",
       "      <td>62</td>\n",
       "      <td>Yes</td>\n",
       "      <td>dsl</td>\n",
       "      <td>Yes</td>\n",
       "      <td>No</td>\n",
       "      <td>No</td>\n",
       "      <td>One year</td>\n",
       "      <td>Bank transfer (automatic)</td>\n",
       "      <td>NaN</td>\n",
       "      <td>3487.95</td>\n",
       "      <td>NaN</td>\n",
       "    </tr>\n",
       "  </tbody>\n",
       "</table>\n",
       "</div>"
      ],
      "text/plain": [
       "   customerID  Genero  Idoso Casado Dependents  Tempo_como_Cliente  \\\n",
       "0  7590-VHVEG  Female      0    Yes         No                   1   \n",
       "1  5575-GNVDE    Male      0     No         No                  34   \n",
       "2  3668-QPYBK    Male      0     No         No                   2   \n",
       "3  7795-CFOCW    Male      0     No         No                  45   \n",
       "4  9237-HQITU     NaN      0     No         No                   2   \n",
       "5  9305-CDSKC     NaN      0     No         No                   8   \n",
       "6  1452-KIOVK     NaN      0     No        Yes                  22   \n",
       "7  6713-OKOMC     NaN      0     No         No                  10   \n",
       "8  7892-POOKP     NaN      0    Yes         No                  28   \n",
       "9  6388-TABGU     NaN      0     No        Yes                  62   \n",
       "\n",
       "  PhoneService Servico_Internet Servico_Seguranca Suporte_Tecnico StreamingTV  \\\n",
       "0           No              DSL                No              No          No   \n",
       "1          Yes              DSL               Yes              No          No   \n",
       "2          Yes              DSL               Yes              No          No   \n",
       "3           No              DSL               Yes             Yes          No   \n",
       "4          Yes      Fiber optic                No              No          No   \n",
       "5          Yes      Fiber optic                No              No         Yes   \n",
       "6          Yes      Fiber optic                No              No         Yes   \n",
       "7           No              DSL               Yes              No          No   \n",
       "8          Yes      Fiber optic                No             Yes         Yes   \n",
       "9          Yes              dsl               Yes              No          No   \n",
       "\n",
       "    Tipo_Contrato              PaymentMethod  Pagamento_Mensal  Total_Pago  \\\n",
       "0  Month-to-month           Electronic check             29.85       29.85   \n",
       "1        One year               Mailed check             56.95     1889.50   \n",
       "2  Month-to-month               Mailed check             53.85      108.15   \n",
       "3        One year  Bank transfer (automatic)               NaN     1840.75   \n",
       "4  Month-to-month           Electronic check               NaN      151.65   \n",
       "5  Month-to-month           Electronic check               NaN      820.50   \n",
       "6  Month-to-month    Credit card (automatic)               NaN     1949.40   \n",
       "7  Month-to-month               Mailed check               NaN      301.90   \n",
       "8  Month-to-month           Electronic check               NaN     3046.05   \n",
       "9        One year  Bank transfer (automatic)               NaN     3487.95   \n",
       "\n",
       "  Churn  \n",
       "0    No  \n",
       "1    No  \n",
       "2   Yes  \n",
       "3    No  \n",
       "4   Yes  \n",
       "5   NaN  \n",
       "6   NaN  \n",
       "7   NaN  \n",
       "8   NaN  \n",
       "9   NaN  "
      ]
     },
     "execution_count": 91,
     "metadata": {},
     "output_type": "execute_result"
    }
   ],
   "source": [
    "#Lembrem-se sempre de alterar a importação dos dados de acordo com o diretório de vocês.\n",
    "df = pd.read_csv(\"CHURN_TELECON_MOD08_TAREFA.csv\", delimiter=';')\n",
    "\n",
    "df.head(10)"
   ]
  },
  {
   "cell_type": "markdown",
   "metadata": {
    "id": "-Cmll45c8TGu"
   },
   "source": [
    "Legenda dos dados:\n",
    "\n",
    "*   **CustomerID** : Esse é o ID único de cada cliente nosso da rede de produtos de telecomunicação.\n",
    "\n",
    "*   **Genero** : O genero dos nossos clientes.\n",
    "\n",
    "*   **Idoso** : Se nosso cliente tem acima de 60 anos ou não. (Sim = 1 | Não = 0)\n",
    "\n",
    "*   **Casado** : Se nosso cliente é casado ou não.\n",
    "\n",
    "*   **Dependents** : Se cliente tem dependentes.\n",
    "\n",
    "*   **Tempo_como_Cliente** : Tempo em meses que nosso cliente está com a nossa empresa.\n",
    "\n",
    "*   **PhoneService** : Se ele contratou serviço telefônico com a nossa empresa.\n",
    "\n",
    "*   **Servico_Internet** : Qual o tipo de serviço de internet contratado.\n",
    "\n",
    "*   **Servico_Seguranca** : Se ele contratou serviço de segurança com a nossa empresa.\n",
    "\n",
    "*   **Suporte_Tecnico** : Se já acionou o suporte técnico.\n",
    "\n",
    "*   **StreamingTV** : Se ele contratou serviço de streaming para TV.\n",
    "\n",
    "*   **Tipo_Contrato** : Qual o tipo de contrato dos nossos clientes, se era mensal, anual etc.\n",
    "\n",
    "*   **Tipo_Contrato** : Qual o tipo de contrato dos nossos clientes, se era mensal, anual etc.\n",
    "\n",
    "*   **PaymentMethod** : Forma de Pagamento.\n",
    "\n",
    "*   **Pagamento_Mensal** : Quanto o cliente pagava mensalmente.\n",
    "\n",
    "*   **Total_Pago** : Total já pago pelo cliente para nossa companhia.\n",
    "\n",
    "*   **Churn** : Nossa coluna mais importante, se nosso cliente nos abandonou ou não.\n",
    "\n",
    "\n"
   ]
  },
  {
   "cell_type": "markdown",
   "metadata": {
    "id": "2aZL5edn-Sxy"
   },
   "source": [
    "# 1 - Carregue a base, verifique se os tipos de dados estão de acordo com cada coluna e caso não estejam realize a transformação dos tipos de dados."
   ]
  },
  {
   "cell_type": "code",
   "execution_count": 92,
   "metadata": {
    "id": "uVbeG6vJ-ao3"
   },
   "outputs": [
    {
     "name": "stdout",
     "output_type": "stream",
     "text": [
      "<class 'pandas.core.frame.DataFrame'>\n",
      "RangeIndex: 2500 entries, 0 to 2499\n",
      "Data columns (total 16 columns):\n",
      " #   Column              Non-Null Count  Dtype  \n",
      "---  ------              --------------  -----  \n",
      " 0   customerID          2500 non-null   object \n",
      " 1   Genero              2488 non-null   object \n",
      " 2   Idoso               2500 non-null   int64  \n",
      " 3   Casado              2500 non-null   object \n",
      " 4   Dependents          2500 non-null   object \n",
      " 5   Tempo_como_Cliente  2500 non-null   int64  \n",
      " 6   PhoneService        1018 non-null   object \n",
      " 7   Servico_Internet    2500 non-null   object \n",
      " 8   Servico_Seguranca   2500 non-null   object \n",
      " 9   Suporte_Tecnico     2500 non-null   object \n",
      " 10  StreamingTV         2500 non-null   object \n",
      " 11  Tipo_Contrato       2500 non-null   object \n",
      " 12  PaymentMethod       2500 non-null   object \n",
      " 13  Pagamento_Mensal    2175 non-null   float64\n",
      " 14  Total_Pago          2500 non-null   float64\n",
      " 15  Churn               2495 non-null   object \n",
      "dtypes: float64(2), int64(2), object(12)\n",
      "memory usage: 312.6+ KB\n"
     ]
    }
   ],
   "source": [
    "#verificar topos de dados das colunas\n",
    "df.info()"
   ]
  },
  {
   "cell_type": "code",
   "execution_count": 93,
   "metadata": {},
   "outputs": [
    {
     "data": {
      "text/plain": [
       "customerID               0\n",
       "Genero                  12\n",
       "Idoso                    0\n",
       "Casado                   0\n",
       "Dependents               0\n",
       "Tempo_como_Cliente       0\n",
       "PhoneService          1482\n",
       "Servico_Internet         0\n",
       "Servico_Seguranca        0\n",
       "Suporte_Tecnico          0\n",
       "StreamingTV              0\n",
       "Tipo_Contrato            0\n",
       "PaymentMethod            0\n",
       "Pagamento_Mensal       325\n",
       "Total_Pago               0\n",
       "Churn                    5\n",
       "dtype: int64"
      ]
     },
     "execution_count": 93,
     "metadata": {},
     "output_type": "execute_result"
    }
   ],
   "source": [
    "# verificando numero de nulos por categoria\n",
    "df.isnull().sum()"
   ]
  },
  {
   "cell_type": "markdown",
   "metadata": {
    "id": "cu4kjiXn_w9t"
   },
   "source": [
    "# 2 - Esse exercício faremos por etapas:\n",
    "A) Verifique se temos colunas com dados faltantes e traga a % dos dados faltantes por coluna."
   ]
  },
  {
   "cell_type": "code",
   "execution_count": 94,
   "metadata": {
    "id": "nNYLgakRDPr2"
   },
   "outputs": [
    {
     "data": {
      "text/html": [
       "<div>\n",
       "<style scoped>\n",
       "    .dataframe tbody tr th:only-of-type {\n",
       "        vertical-align: middle;\n",
       "    }\n",
       "\n",
       "    .dataframe tbody tr th {\n",
       "        vertical-align: top;\n",
       "    }\n",
       "\n",
       "    .dataframe thead th {\n",
       "        text-align: right;\n",
       "    }\n",
       "</style>\n",
       "<table border=\"1\" class=\"dataframe\">\n",
       "  <thead>\n",
       "    <tr style=\"text-align: right;\">\n",
       "      <th></th>\n",
       "      <th>Coluna</th>\n",
       "      <th>Percentual_Nulo</th>\n",
       "    </tr>\n",
       "  </thead>\n",
       "  <tbody>\n",
       "    <tr>\n",
       "      <th>6</th>\n",
       "      <td>PhoneService</td>\n",
       "      <td>59.28</td>\n",
       "    </tr>\n",
       "    <tr>\n",
       "      <th>13</th>\n",
       "      <td>Pagamento_Mensal</td>\n",
       "      <td>13.00</td>\n",
       "    </tr>\n",
       "    <tr>\n",
       "      <th>1</th>\n",
       "      <td>Genero</td>\n",
       "      <td>0.48</td>\n",
       "    </tr>\n",
       "    <tr>\n",
       "      <th>15</th>\n",
       "      <td>Churn</td>\n",
       "      <td>0.20</td>\n",
       "    </tr>\n",
       "    <tr>\n",
       "      <th>3</th>\n",
       "      <td>Casado</td>\n",
       "      <td>0.00</td>\n",
       "    </tr>\n",
       "    <tr>\n",
       "      <th>4</th>\n",
       "      <td>Dependents</td>\n",
       "      <td>0.00</td>\n",
       "    </tr>\n",
       "    <tr>\n",
       "      <th>2</th>\n",
       "      <td>Idoso</td>\n",
       "      <td>0.00</td>\n",
       "    </tr>\n",
       "    <tr>\n",
       "      <th>0</th>\n",
       "      <td>customerID</td>\n",
       "      <td>0.00</td>\n",
       "    </tr>\n",
       "    <tr>\n",
       "      <th>7</th>\n",
       "      <td>Servico_Internet</td>\n",
       "      <td>0.00</td>\n",
       "    </tr>\n",
       "    <tr>\n",
       "      <th>5</th>\n",
       "      <td>Tempo_como_Cliente</td>\n",
       "      <td>0.00</td>\n",
       "    </tr>\n",
       "    <tr>\n",
       "      <th>8</th>\n",
       "      <td>Servico_Seguranca</td>\n",
       "      <td>0.00</td>\n",
       "    </tr>\n",
       "    <tr>\n",
       "      <th>9</th>\n",
       "      <td>Suporte_Tecnico</td>\n",
       "      <td>0.00</td>\n",
       "    </tr>\n",
       "    <tr>\n",
       "      <th>11</th>\n",
       "      <td>Tipo_Contrato</td>\n",
       "      <td>0.00</td>\n",
       "    </tr>\n",
       "    <tr>\n",
       "      <th>10</th>\n",
       "      <td>StreamingTV</td>\n",
       "      <td>0.00</td>\n",
       "    </tr>\n",
       "    <tr>\n",
       "      <th>12</th>\n",
       "      <td>PaymentMethod</td>\n",
       "      <td>0.00</td>\n",
       "    </tr>\n",
       "    <tr>\n",
       "      <th>14</th>\n",
       "      <td>Total_Pago</td>\n",
       "      <td>0.00</td>\n",
       "    </tr>\n",
       "  </tbody>\n",
       "</table>\n",
       "</div>"
      ],
      "text/plain": [
       "                Coluna  Percentual_Nulo\n",
       "6         PhoneService            59.28\n",
       "13    Pagamento_Mensal            13.00\n",
       "1               Genero             0.48\n",
       "15               Churn             0.20\n",
       "3               Casado             0.00\n",
       "4           Dependents             0.00\n",
       "2                Idoso             0.00\n",
       "0           customerID             0.00\n",
       "7     Servico_Internet             0.00\n",
       "5   Tempo_como_Cliente             0.00\n",
       "8    Servico_Seguranca             0.00\n",
       "9      Suporte_Tecnico             0.00\n",
       "11       Tipo_Contrato             0.00\n",
       "10         StreamingTV             0.00\n",
       "12       PaymentMethod             0.00\n",
       "14          Total_Pago             0.00"
      ]
     },
     "execution_count": 94,
     "metadata": {},
     "output_type": "execute_result"
    }
   ],
   "source": [
    "#calculo dos percentuais faltantes\n",
    "faltantes_percentual = (df.isnull().mean()*100).reset_index() # calcula media % dos dados nulos\n",
    "faltantes_percentual.columns = ['Coluna', 'Percentual_Nulo']  # renomeia colunas do df criado\n",
    "faltantes_percentual.sort_values('Percentual_Nulo', ascending=False) # organiza Df de forma de com o valores"
   ]
  },
  {
   "cell_type": "markdown",
   "metadata": {
    "id": "HzzZHCVO_8b9"
   },
   "source": [
    "B) Exclua nessa etapa as linhas das colunas com dados faltantes que você analisar que esse método é o ideal. Justifique o motivo de estar excluindo essas linhas."
   ]
  },
  {
   "cell_type": "markdown",
   "metadata": {},
   "source": [
    "a coluna genero não possui percentual relevante de valores nulos para afetar a analise e é uma categoria sem muito peso para a analise de churn.\n",
    "a coluna churn apesar de ser muito importante a quantidade é muito pequena em relação ao tamanho do nosso banco de dados, ao inves de fazer um preenchimento que pode enviezar os dados, resolvi excluir as poucas linhas nulas "
   ]
  },
  {
   "cell_type": "code",
   "execution_count": 95,
   "metadata": {
    "id": "bDZTgNy8ECwu"
   },
   "outputs": [],
   "source": [
    "# exclusão das linhas nulas\n",
    "df.dropna(subset=['Genero'], inplace=True) ### exclusão dos nulos da categoria \"genero\" por representa uma % muito pequena dos dados\n",
    "df.dropna(subset=['Churn'], inplace=True)  ### excluão dos nulos da categoria \"churn\" por representar um % muito pequeno dos dados"
   ]
  },
  {
   "cell_type": "markdown",
   "metadata": {
    "id": "plAEzGoMAP16"
   },
   "source": [
    "C) Nessa etapa substitua pela média, mediana ou moda as linhas das colunas com valores faltantes que você analisou e entendeu que esse era o melhor método. Não se esqueça de justificar sua escolha."
   ]
  },
  {
   "cell_type": "markdown",
   "metadata": {
    "id": "9S7O7GzoEevG"
   },
   "source": [
    "**Dica variáveis numéricas:** Não se esqueça de verificar a distrbuição dos dados, média e mediana."
   ]
  },
  {
   "cell_type": "markdown",
   "metadata": {
    "id": "MuhfrNV5FGDY"
   },
   "source": [
    "**Dica variáveis categóricas:** Caso precise substituir uma variável categórica utilize um gráfico de barras para verificar a que mais aparece e utilizar ela na substituição.\n",
    "Ou você pode optar por excluir a coluna, mas justifique sua escolha.\n",
    "\n",
    "Caso opte por substituir você pode utilizar a função fillna:\n",
    "df['SUACOLUNA'].fillna(\"VALOR QUE SUBSTITUIRA O NULO\", inplace=True)\n",
    "Ela funcionará como a replace."
   ]
  },
  {
   "cell_type": "code",
   "execution_count": 96,
   "metadata": {
    "id": "f9xdpik_ERw1"
   },
   "outputs": [
    {
     "name": "stdout",
     "output_type": "stream",
     "text": [
      "Média de pagamento  Mensal:  65.61\n",
      "Mediana de Pagamento Mensal:  71.45\n"
     ]
    }
   ],
   "source": [
    "# calculo de média do pagamento_mensal\n",
    "media_pagamento = df['Pagamento_Mensal'].mean().round(2) # calculo da médio \n",
    "print(\"Média de pagamento  Mensal: \", media_pagamento)\n",
    "mediana_pagamento = df['Pagamento_Mensal'].median() # calcula da mediana\n",
    "print(\"Mediana de Pagamento Mensal: \", mediana_pagamento)"
   ]
  },
  {
   "cell_type": "markdown",
   "metadata": {},
   "source": [
    "media e mediana nao coincidem, o que pode indicar outliers, utilizarei o calculo do desvio padrão para ver se temos muitos valores que se afastao da media e um boxplot para verificar os outliers se estão acima ou abaixo"
   ]
  },
  {
   "cell_type": "code",
   "execution_count": 97,
   "metadata": {},
   "outputs": [
    {
     "name": "stdout",
     "output_type": "stream",
     "text": [
      "desvio: 29.931520109798708\n"
     ]
    },
    {
     "data": {
      "image/png": "[encoded data removed]",
      "text/plain": [
       "<Figure size 500x300 with 1 Axes>"
      ]
     },
     "metadata": {},
     "output_type": "display_data"
    }
   ],
   "source": [
    "# calculo do desvio padrão\n",
    "desvio_pagamento = df['Pagamento_Mensal'].std()\n",
    "print('desvio:' , desvio_pagamento) # valores entre 36 - 94\n",
    "\n",
    "# boxplot para verificação do outliers\n",
    "sns.set_style('whitegrid')\n",
    "plt.figure(figsize=(5,3))\n",
    "sns.boxplot(data=df, y='Pagamento_Mensal')\n",
    "plt.title('Distribuição Pagamento Mensal')\n",
    "plt.ylabel('Valores')\n",
    "plt.grid()\n",
    "plt.show()"
   ]
  },
  {
   "cell_type": "markdown",
   "metadata": {},
   "source": [
    "com este dois dados vemos que temos um valores dissonantes mas nada acima dos quartis do boxplot e pouco acima do valores do desvio padrão, assim ocasionando a diferença entre media e mediana, com isso vejo que utiliza a media como dados para completar as informações do nulo nao nos trara muito risco de enviezar os dados"
   ]
  },
  {
   "cell_type": "code",
   "execution_count": 98,
   "metadata": {},
   "outputs": [],
   "source": [
    "# prenchimento dos dados nulos com a media na coluna pagamento_mensal\n",
    "df['Pagamento_Mensal'] = df['Pagamento_Mensal'].fillna(media_pagamento)"
   ]
  },
  {
   "cell_type": "code",
   "execution_count": 99,
   "metadata": {},
   "outputs": [
    {
     "data": {
      "text/plain": [
       "np.int64(0)"
      ]
     },
     "execution_count": 99,
     "metadata": {},
     "output_type": "execute_result"
    }
   ],
   "source": [
    "df['Pagamento_Mensal'].isnull().sum() # verificando se todos os valores foram substituidos"
   ]
  },
  {
   "cell_type": "markdown",
   "metadata": {
    "jp-MarkdownHeadingCollapsed": true
   },
   "source": [
    "Agora para tratar os valores nulos da variavel categorica"
   ]
  },
  {
   "cell_type": "code",
   "execution_count": 100,
   "metadata": {},
   "outputs": [
    {
     "data": {
      "image/png": "[encoded data removed]",
      "text/plain": [
       "<Figure size 640x480 with 1 Axes>"
      ]
     },
     "metadata": {},
     "output_type": "display_data"
    },
    {
     "name": "stdout",
     "output_type": "stream",
     "text": [
      "PhoneService\n",
      "Yes    91.451292\n",
      "No      8.548708\n",
      "Name: proportion, dtype: float64\n"
     ]
    }
   ],
   "source": [
    "# grafico de barras para visualização de variavel categorico\n",
    "sns.countplot(x='PhoneService', data=df) # conta as categorias de phoneservice\n",
    "plt.title('Proporção de Clientes com serviço Telefonico') # titulo\n",
    "plt.show()\n",
    "print(df['PhoneService'].value_counts(normalize=True)*100) #conta em percentual a proporção"
   ]
  },
  {
   "cell_type": "markdown",
   "metadata": {},
   "source": [
    "preencher os dados da categoria PhoneService conforme a proporção pode gerar um vies, porem temos um desequilibrio muito grande da proporção dos clientes com e sem o serviço, emtão chance de enviezar os dados é muito menor do que em outras categorias"
   ]
  },
  {
   "cell_type": "code",
   "execution_count": 101,
   "metadata": {},
   "outputs": [],
   "source": [
    "# prenchimento dos dados nulos com a media na coluna PhoneService\n",
    "df['PhoneService'] = df['PhoneService'].fillna('YES')"
   ]
  },
  {
   "cell_type": "code",
   "execution_count": 102,
   "metadata": {},
   "outputs": [
    {
     "data": {
      "text/plain": [
       "np.int64(0)"
      ]
     },
     "execution_count": 102,
     "metadata": {},
     "output_type": "execute_result"
    }
   ],
   "source": [
    "df['PhoneService'].isnull().sum() # verificando se todos os valores foram substituidos"
   ]
  },
  {
   "cell_type": "code",
   "execution_count": 103,
   "metadata": {},
   "outputs": [
    {
     "data": {
      "text/plain": [
       "customerID            0\n",
       "Genero                0\n",
       "Idoso                 0\n",
       "Casado                0\n",
       "Dependents            0\n",
       "Tempo_como_Cliente    0\n",
       "PhoneService          0\n",
       "Servico_Internet      0\n",
       "Servico_Seguranca     0\n",
       "Suporte_Tecnico       0\n",
       "StreamingTV           0\n",
       "Tipo_Contrato         0\n",
       "PaymentMethod         0\n",
       "Pagamento_Mensal      0\n",
       "Total_Pago            0\n",
       "Churn                 0\n",
       "dtype: int64"
      ]
     },
     "execution_count": 103,
     "metadata": {},
     "output_type": "execute_result"
    }
   ],
   "source": [
    "df.isnull().sum() # verificação final do dados validos"
   ]
  },
  {
   "cell_type": "markdown",
   "metadata": {
    "id": "KyM7bzIWAevH"
   },
   "source": [
    "# 3 - Verifique se encontramos valores digitados incorretamente, ou com letras maiusculas ou minusculas, ou até mesmo mesmos valores porém escritos de forma diferente e corrija."
   ]
  },
  {
   "cell_type": "code",
   "execution_count": 104,
   "metadata": {},
   "outputs": [
    {
     "data": {
      "text/plain": [
       "array(['Female', 'Male', 'F', 'M', 'f'], dtype=object)"
      ]
     },
     "execution_count": 104,
     "metadata": {},
     "output_type": "execute_result"
    }
   ],
   "source": [
    "df['Genero'].unique() # verificando possiveis erros de escrita e fonte"
   ]
  },
  {
   "cell_type": "code",
   "execution_count": 105,
   "metadata": {},
   "outputs": [
    {
     "data": {
      "text/plain": [
       "array(['Yes', 'No'], dtype=object)"
      ]
     },
     "execution_count": 105,
     "metadata": {},
     "output_type": "execute_result"
    }
   ],
   "source": [
    "df['Casado'].unique() # verificando possiveis erros de escrita e fonte"
   ]
  },
  {
   "cell_type": "code",
   "execution_count": 106,
   "metadata": {},
   "outputs": [
    {
     "data": {
      "text/plain": [
       "array(['No', 'Yes'], dtype=object)"
      ]
     },
     "execution_count": 106,
     "metadata": {},
     "output_type": "execute_result"
    }
   ],
   "source": [
    "df['Dependents'].unique() # verificando possiveis erros de escrita e fonte"
   ]
  },
  {
   "cell_type": "code",
   "execution_count": 107,
   "metadata": {},
   "outputs": [
    {
     "data": {
      "text/plain": [
       "array(['Month-to-month', 'One year', 'Two year'], dtype=object)"
      ]
     },
     "execution_count": 107,
     "metadata": {},
     "output_type": "execute_result"
    }
   ],
   "source": [
    "df['Tipo_Contrato'].unique() # verificando possiveis erros de escrita e fonte"
   ]
  },
  {
   "cell_type": "code",
   "execution_count": 108,
   "metadata": {},
   "outputs": [
    {
     "data": {
      "text/plain": [
       "array(['No', 'Yes', 'YES'], dtype=object)"
      ]
     },
     "execution_count": 108,
     "metadata": {},
     "output_type": "execute_result"
    }
   ],
   "source": [
    "df['PhoneService'].unique() # verificando possiveis erros de escrita e fonte"
   ]
  },
  {
   "cell_type": "code",
   "execution_count": 109,
   "metadata": {
    "id": "pBLJpzXXGTcq"
   },
   "outputs": [
    {
     "data": {
      "text/plain": [
       "array(['DSL', 'No', 'Fiber optic', 'dsl'], dtype=object)"
      ]
     },
     "execution_count": 109,
     "metadata": {},
     "output_type": "execute_result"
    }
   ],
   "source": [
    "#tratamento dos dados da coluna Servico_Internet que possui escritas diferentes\n",
    "df['Servico_Internet'].unique() # verificando possiveis erros de escrita e fonte"
   ]
  },
  {
   "cell_type": "code",
   "execution_count": 110,
   "metadata": {},
   "outputs": [
    {
     "data": {
      "text/plain": [
       "array(['No', 'Yes', 'No internet service'], dtype=object)"
      ]
     },
     "execution_count": 110,
     "metadata": {},
     "output_type": "execute_result"
    }
   ],
   "source": [
    "df['Servico_Seguranca'].unique() # verificando possiveis erros de escrita e fonte"
   ]
  },
  {
   "cell_type": "code",
   "execution_count": 111,
   "metadata": {},
   "outputs": [
    {
     "data": {
      "text/plain": [
       "array(['No', 'No internet service', 'Yes'], dtype=object)"
      ]
     },
     "execution_count": 111,
     "metadata": {},
     "output_type": "execute_result"
    }
   ],
   "source": [
    "df['StreamingTV'].unique() # verificando possiveis erros de escrita e fonte"
   ]
  },
  {
   "cell_type": "code",
   "execution_count": 112,
   "metadata": {},
   "outputs": [
    {
     "data": {
      "text/plain": [
       "array(['Month-to-month', 'One year', 'Two year'], dtype=object)"
      ]
     },
     "execution_count": 112,
     "metadata": {},
     "output_type": "execute_result"
    }
   ],
   "source": [
    "df['Tipo_Contrato'].unique() # verificando possiveis erros de escrita e fonte"
   ]
  },
  {
   "cell_type": "code",
   "execution_count": 113,
   "metadata": {},
   "outputs": [
    {
     "data": {
      "text/plain": [
       "array(['Electronic check', 'Mailed check', 'Bank transfer (automatic)',\n",
       "       'Credit card (automatic)'], dtype=object)"
      ]
     },
     "execution_count": 113,
     "metadata": {},
     "output_type": "execute_result"
    }
   ],
   "source": [
    "df['PaymentMethod'].unique() # verificando possiveis erros de escrita e fonte"
   ]
  },
  {
   "cell_type": "markdown",
   "metadata": {},
   "source": [
    "## apos a verificação que somente a categoria Servico_Internet, genero, PhoneService tem dados que necessita tratamento"
   ]
  },
  {
   "cell_type": "code",
   "execution_count": 114,
   "metadata": {},
   "outputs": [
    {
     "data": {
      "text/plain": [
       "Servico_Internet\n",
       "FIBER OPTIC    1119\n",
       "DSL             842\n",
       "NO              527\n",
       "Name: count, dtype: int64"
      ]
     },
     "execution_count": 114,
     "metadata": {},
     "output_type": "execute_result"
    }
   ],
   "source": [
    "df['Servico_Internet'] = df['Servico_Internet'].str.upper() # normalizando os dados como caixa alta\n",
    "df['Servico_Internet'].value_counts() # verificando se nao há outro erros"
   ]
  },
  {
   "cell_type": "code",
   "execution_count": 115,
   "metadata": {},
   "outputs": [
    {
     "data": {
      "text/plain": [
       "Genero\n",
       "M    1269\n",
       "F    1219\n",
       "Name: count, dtype: int64"
      ]
     },
     "execution_count": 115,
     "metadata": {},
     "output_type": "execute_result"
    }
   ],
   "source": [
    "df['Genero'] = df['Genero'].str.upper() # normalizando os dados como caixa alta\n",
    "df['Genero'] = df['Genero'].replace({'FEMALE':'F', 'MALE':'M'}) # normalizando modo de escrita\n",
    "df['Genero'].value_counts() # verificando se nao há outro erros"
   ]
  },
  {
   "cell_type": "code",
   "execution_count": 116,
   "metadata": {},
   "outputs": [
    {
     "data": {
      "text/plain": [
       "PhoneService\n",
       "YES    2402\n",
       "NO       86\n",
       "Name: count, dtype: int64"
      ]
     },
     "execution_count": 116,
     "metadata": {},
     "output_type": "execute_result"
    }
   ],
   "source": [
    "df['PhoneService'] = df['PhoneService'].str.upper() # normalizando os dados como caixa alta\n",
    "df['PhoneService'].value_counts() # verificando se nao há outro erros"
   ]
  },
  {
   "cell_type": "markdown",
   "metadata": {},
   "source": [
    "## tratar dados categoricos que podem ser considerados como numericos para novos insights futuramente"
   ]
  },
  {
   "cell_type": "code",
   "execution_count": 117,
   "metadata": {},
   "outputs": [
    {
     "data": {
      "text/plain": [
       "0       True\n",
       "1       True\n",
       "2       True\n",
       "3       True\n",
       "16      True\n",
       "        ... \n",
       "2495    True\n",
       "2496    True\n",
       "2497    True\n",
       "2498    True\n",
       "2499    True\n",
       "Name: Casado, Length: 2488, dtype: bool"
      ]
     },
     "execution_count": 117,
     "metadata": {},
     "output_type": "execute_result"
    }
   ],
   "source": [
    "# tratando Casado para boleana\n",
    "df['Casado']= df['Casado'].astype(bool)\n",
    "df['Casado']"
   ]
  },
  {
   "cell_type": "code",
   "execution_count": 118,
   "metadata": {},
   "outputs": [
    {
     "data": {
      "text/plain": [
       "0       True\n",
       "1       True\n",
       "2       True\n",
       "3       True\n",
       "16      True\n",
       "        ... \n",
       "2495    True\n",
       "2496    True\n",
       "2497    True\n",
       "2498    True\n",
       "2499    True\n",
       "Name: Dependents, Length: 2488, dtype: bool"
      ]
     },
     "execution_count": 118,
     "metadata": {},
     "output_type": "execute_result"
    }
   ],
   "source": [
    "# tratando Dependents para boleana\n",
    "df['Dependents']= df['Dependents'].astype(bool)\n",
    "df['Dependents']"
   ]
  },
  {
   "cell_type": "code",
   "execution_count": 119,
   "metadata": {},
   "outputs": [
    {
     "data": {
      "text/plain": [
       "0       True\n",
       "1       True\n",
       "2       True\n",
       "3       True\n",
       "16      True\n",
       "        ... \n",
       "2495    True\n",
       "2496    True\n",
       "2497    True\n",
       "2498    True\n",
       "2499    True\n",
       "Name: PhoneService, Length: 2488, dtype: bool"
      ]
     },
     "execution_count": 119,
     "metadata": {},
     "output_type": "execute_result"
    }
   ],
   "source": [
    "# tratando PhoneService para boleana\n",
    "df['PhoneService'] = df['PhoneService'].astype(bool)\n",
    "df['PhoneService'] "
   ]
  },
  {
   "cell_type": "code",
   "execution_count": 127,
   "metadata": {},
   "outputs": [
    {
     "data": {
      "text/plain": [
       "0       True\n",
       "1       True\n",
       "2       True\n",
       "3       True\n",
       "16      True\n",
       "        ... \n",
       "2495    True\n",
       "2496    True\n",
       "2497    True\n",
       "2498    True\n",
       "2499    True\n",
       "Name: Suporte_Tecnico, Length: 2488, dtype: bool"
      ]
     },
     "execution_count": 127,
     "metadata": {},
     "output_type": "execute_result"
    }
   ],
   "source": [
    "# tratando Suporte_Tecnico para boleana\n",
    "df['Suporte_Tecnico'] = df['Suporte_Tecnico'].astype(bool)\n",
    "df['Suporte_Tecnico'] "
   ]
  },
  {
   "cell_type": "code",
   "execution_count": 124,
   "metadata": {},
   "outputs": [
    {
     "data": {
      "text/plain": [
       "0       True\n",
       "1       True\n",
       "2       True\n",
       "3       True\n",
       "16      True\n",
       "        ... \n",
       "2495    True\n",
       "2496    True\n",
       "2497    True\n",
       "2498    True\n",
       "2499    True\n",
       "Name: StreamingTV, Length: 2488, dtype: bool"
      ]
     },
     "execution_count": 124,
     "metadata": {},
     "output_type": "execute_result"
    }
   ],
   "source": [
    "# tratando StreamingTV para boleana\n",
    "df['StreamingTV']= df['StreamingTV'].astype(bool)\n",
    "df['StreamingTV']"
   ]
  },
  {
   "cell_type": "code",
   "execution_count": 121,
   "metadata": {},
   "outputs": [
    {
     "data": {
      "text/plain": [
       "0       True\n",
       "1       True\n",
       "2       True\n",
       "3       True\n",
       "16      True\n",
       "        ... \n",
       "2495    True\n",
       "2496    True\n",
       "2497    True\n",
       "2498    True\n",
       "2499    True\n",
       "Name: Churn, Length: 2488, dtype: bool"
      ]
     },
     "execution_count": 121,
     "metadata": {},
     "output_type": "execute_result"
    }
   ],
   "source": [
    "# tratando Churn para boleana\n",
    "df['Churn']= df['Churn'].astype(bool)\n",
    "df['Churn']"
   ]
  },
  {
   "cell_type": "markdown",
   "metadata": {
    "id": "C-2vJktpA0r7"
   },
   "source": [
    "# [EXTRA] 4 - Caso deseje, para manter um padrão na sua base, renomeie as colunas ou deixando em português, ou inglês."
   ]
  },
  {
   "cell_type": "code",
   "execution_count": 122,
   "metadata": {},
   "outputs": [
    {
     "data": {
      "text/plain": [
       "(None,)"
      ]
     },
     "execution_count": 122,
     "metadata": {},
     "output_type": "execute_result"
    }
   ],
   "source": [
    "#renomear colunas para portugues ou inglês\n",
    "df.rename(columns ={'Genero':'Gender',\t'Idoso':'Elderly',\t'Casado':'Married',\t'Tempo_como_Cliente':'Time_as_Client',\t'Servico_Internet':'Internet_Service',\t'Servico_Seguranca':'Security_Service',\t'Suporte_Tecnico':'Suport', 'Tipo_Contrato':'Contract_Type',\t'Pagamento_Mensal':'Monthly_Payment',\t'Total_Pago':'Total_Paid'}, inplace=True),"
   ]
  },
  {
   "cell_type": "code",
   "execution_count": 128,
   "metadata": {},
   "outputs": [
    {
     "data": {
      "text/html": [
       "<div>\n",
       "<style scoped>\n",
       "    .dataframe tbody tr th:only-of-type {\n",
       "        vertical-align: middle;\n",
       "    }\n",
       "\n",
       "    .dataframe tbody tr th {\n",
       "        vertical-align: top;\n",
       "    }\n",
       "\n",
       "    .dataframe thead th {\n",
       "        text-align: right;\n",
       "    }\n",
       "</style>\n",
       "<table border=\"1\" class=\"dataframe\">\n",
       "  <thead>\n",
       "    <tr style=\"text-align: right;\">\n",
       "      <th></th>\n",
       "      <th>customerID</th>\n",
       "      <th>Gender</th>\n",
       "      <th>Elderly</th>\n",
       "      <th>Married</th>\n",
       "      <th>Dependents</th>\n",
       "      <th>Time_as_Client</th>\n",
       "      <th>PhoneService</th>\n",
       "      <th>Internet_Service</th>\n",
       "      <th>Security_Service</th>\n",
       "      <th>Suport</th>\n",
       "      <th>StreamingTV</th>\n",
       "      <th>Contract_Type</th>\n",
       "      <th>PaymentMethod</th>\n",
       "      <th>Monthly_Payment</th>\n",
       "      <th>Total_Paid</th>\n",
       "      <th>Churn</th>\n",
       "      <th>Suporte_Tecnico</th>\n",
       "    </tr>\n",
       "  </thead>\n",
       "  <tbody>\n",
       "    <tr>\n",
       "      <th>0</th>\n",
       "      <td>7590-VHVEG</td>\n",
       "      <td>F</td>\n",
       "      <td>0</td>\n",
       "      <td>True</td>\n",
       "      <td>True</td>\n",
       "      <td>1</td>\n",
       "      <td>True</td>\n",
       "      <td>DSL</td>\n",
       "      <td>No</td>\n",
       "      <td>No</td>\n",
       "      <td>True</td>\n",
       "      <td>Month-to-month</td>\n",
       "      <td>Electronic check</td>\n",
       "      <td>29.85</td>\n",
       "      <td>29.85</td>\n",
       "      <td>True</td>\n",
       "      <td>True</td>\n",
       "    </tr>\n",
       "    <tr>\n",
       "      <th>1</th>\n",
       "      <td>5575-GNVDE</td>\n",
       "      <td>M</td>\n",
       "      <td>0</td>\n",
       "      <td>True</td>\n",
       "      <td>True</td>\n",
       "      <td>34</td>\n",
       "      <td>True</td>\n",
       "      <td>DSL</td>\n",
       "      <td>Yes</td>\n",
       "      <td>No</td>\n",
       "      <td>True</td>\n",
       "      <td>One year</td>\n",
       "      <td>Mailed check</td>\n",
       "      <td>56.95</td>\n",
       "      <td>1889.50</td>\n",
       "      <td>True</td>\n",
       "      <td>True</td>\n",
       "    </tr>\n",
       "    <tr>\n",
       "      <th>2</th>\n",
       "      <td>3668-QPYBK</td>\n",
       "      <td>M</td>\n",
       "      <td>0</td>\n",
       "      <td>True</td>\n",
       "      <td>True</td>\n",
       "      <td>2</td>\n",
       "      <td>True</td>\n",
       "      <td>DSL</td>\n",
       "      <td>Yes</td>\n",
       "      <td>No</td>\n",
       "      <td>True</td>\n",
       "      <td>Month-to-month</td>\n",
       "      <td>Mailed check</td>\n",
       "      <td>53.85</td>\n",
       "      <td>108.15</td>\n",
       "      <td>True</td>\n",
       "      <td>True</td>\n",
       "    </tr>\n",
       "    <tr>\n",
       "      <th>3</th>\n",
       "      <td>7795-CFOCW</td>\n",
       "      <td>M</td>\n",
       "      <td>0</td>\n",
       "      <td>True</td>\n",
       "      <td>True</td>\n",
       "      <td>45</td>\n",
       "      <td>True</td>\n",
       "      <td>DSL</td>\n",
       "      <td>Yes</td>\n",
       "      <td>Yes</td>\n",
       "      <td>True</td>\n",
       "      <td>One year</td>\n",
       "      <td>Bank transfer (automatic)</td>\n",
       "      <td>65.61</td>\n",
       "      <td>1840.75</td>\n",
       "      <td>True</td>\n",
       "      <td>True</td>\n",
       "    </tr>\n",
       "    <tr>\n",
       "      <th>16</th>\n",
       "      <td>8191-XWSZG</td>\n",
       "      <td>F</td>\n",
       "      <td>0</td>\n",
       "      <td>True</td>\n",
       "      <td>True</td>\n",
       "      <td>52</td>\n",
       "      <td>True</td>\n",
       "      <td>NO</td>\n",
       "      <td>No internet service</td>\n",
       "      <td>No internet service</td>\n",
       "      <td>True</td>\n",
       "      <td>One year</td>\n",
       "      <td>Mailed check</td>\n",
       "      <td>65.61</td>\n",
       "      <td>1022.95</td>\n",
       "      <td>True</td>\n",
       "      <td>True</td>\n",
       "    </tr>\n",
       "  </tbody>\n",
       "</table>\n",
       "</div>"
      ],
      "text/plain": [
       "    customerID Gender  Elderly  Married  Dependents  Time_as_Client  \\\n",
       "0   7590-VHVEG      F        0     True        True               1   \n",
       "1   5575-GNVDE      M        0     True        True              34   \n",
       "2   3668-QPYBK      M        0     True        True               2   \n",
       "3   7795-CFOCW      M        0     True        True              45   \n",
       "16  8191-XWSZG      F        0     True        True              52   \n",
       "\n",
       "    PhoneService Internet_Service     Security_Service               Suport  \\\n",
       "0           True              DSL                   No                   No   \n",
       "1           True              DSL                  Yes                   No   \n",
       "2           True              DSL                  Yes                   No   \n",
       "3           True              DSL                  Yes                  Yes   \n",
       "16          True               NO  No internet service  No internet service   \n",
       "\n",
       "    StreamingTV   Contract_Type              PaymentMethod  Monthly_Payment  \\\n",
       "0          True  Month-to-month           Electronic check            29.85   \n",
       "1          True        One year               Mailed check            56.95   \n",
       "2          True  Month-to-month               Mailed check            53.85   \n",
       "3          True        One year  Bank transfer (automatic)            65.61   \n",
       "16         True        One year               Mailed check            65.61   \n",
       "\n",
       "    Total_Paid  Churn  Suporte_Tecnico  \n",
       "0        29.85   True             True  \n",
       "1      1889.50   True             True  \n",
       "2       108.15   True             True  \n",
       "3      1840.75   True             True  \n",
       "16     1022.95   True             True  "
      ]
     },
     "execution_count": 128,
     "metadata": {},
     "output_type": "execute_result"
    }
   ],
   "source": [
    "df.head()"
   ]
  },
  {
   "cell_type": "code",
   "execution_count": 130,
   "metadata": {},
   "outputs": [],
   "source": [
    "df.to_csv('CHURN_CREDIT_MOD14_PART2.csv', index=False)"
   ]
  }
 ],
 "metadata": {
  "colab": {
   "provenance": []
  },
  "kernelspec": {
   "display_name": "Python [conda env:base] *",
   "language": "python",
   "name": "conda-base-py"
  },
  "language_info": {
   "codemirror_mode": {
    "name": "ipython",
    "version": 3
   },
   "file_extension": ".py",
   "mimetype": "text/x-python",
   "name": "python",
   "nbconvert_exporter": "python",
   "pygments_lexer": "ipython3",
   "version": "3.13.5"
  }
 },
 "nbformat": 4,
 "nbformat_minor": 4
}
